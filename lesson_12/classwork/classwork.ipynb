{
 "cells": [
  {
   "metadata": {},
   "cell_type": "markdown",
   "source": "#### Task 1",
   "id": "a5854f5a19663da8"
  },
  {
   "metadata": {},
   "cell_type": "code",
   "outputs": [],
   "execution_count": 1,
   "source": [
    "import pandas as pd\n",
    "\n",
    "\n",
    "df = pd.read_csv('students.csv')"
   ],
   "id": "e01730ce337bc19c"
  },
  {
   "metadata": {},
   "cell_type": "code",
   "outputs": [
    {
     "data": {
      "text/plain": [
       "       Имя  Возраст  Город  Оценка\n",
       "0  Алексей       25  Минск     4.5\n",
       "3    Ольга       28  Минск     4.2"
      ],
      "text/html": [
       "<div>\n",
       "<style scoped>\n",
       "    .dataframe tbody tr th:only-of-type {\n",
       "        vertical-align: middle;\n",
       "    }\n",
       "\n",
       "    .dataframe tbody tr th {\n",
       "        vertical-align: top;\n",
       "    }\n",
       "\n",
       "    .dataframe thead th {\n",
       "        text-align: right;\n",
       "    }\n",
       "</style>\n",
       "<table border=\"1\" class=\"dataframe\">\n",
       "  <thead>\n",
       "    <tr style=\"text-align: right;\">\n",
       "      <th></th>\n",
       "      <th>Имя</th>\n",
       "      <th>Возраст</th>\n",
       "      <th>Город</th>\n",
       "      <th>Оценка</th>\n",
       "    </tr>\n",
       "  </thead>\n",
       "  <tbody>\n",
       "    <tr>\n",
       "      <th>0</th>\n",
       "      <td>Алексей</td>\n",
       "      <td>25</td>\n",
       "      <td>Минск</td>\n",
       "      <td>4.5</td>\n",
       "    </tr>\n",
       "    <tr>\n",
       "      <th>3</th>\n",
       "      <td>Ольга</td>\n",
       "      <td>28</td>\n",
       "      <td>Минск</td>\n",
       "      <td>4.2</td>\n",
       "    </tr>\n",
       "  </tbody>\n",
       "</table>\n",
       "</div>"
      ]
     },
     "execution_count": 4,
     "metadata": {},
     "output_type": "execute_result"
    }
   ],
   "execution_count": 4,
   "source": "df[df['Город'] == 'Минск']",
   "id": "c81d04928d4907cf"
  },
  {
   "metadata": {},
   "cell_type": "code",
   "outputs": [
    {
     "data": {
      "text/plain": [
       "Город\n",
       "Минск              4.35\n",
       "Москва             3.80\n",
       "Санкт-Петербург    5.00\n",
       "Name: Оценка, dtype: float64"
      ]
     },
     "execution_count": 7,
     "metadata": {},
     "output_type": "execute_result"
    }
   ],
   "execution_count": 7,
   "source": "df.groupby('Город')['Оценка'].mean()",
   "id": "38afc8b9a5a6e75d"
  },
  {
   "metadata": {},
   "cell_type": "markdown",
   "source": "#### Task 2",
   "id": "7d04f2131adeee1"
  },
  {
   "metadata": {
    "ExecuteTime": {
     "end_time": "2025-03-19T18:19:15.722982Z",
     "start_time": "2025-03-19T18:19:15.716796Z"
    }
   },
   "cell_type": "code",
   "source": [
    "data = {\n",
    "    'Name': ['Alice', 'Bob', 'Charlie', 'David', 'Eva'],\n",
    "    'Age': [20, 21, 22, 20, 21],\n",
    "    'Grade': [9, 8, 7, 10, 6]\n",
    "}\n",
    "\n",
    "df = pd.DataFrame(data)"
   ],
   "id": "31ce5bb9266ba426",
   "outputs": [],
   "execution_count": 11
  },
  {
   "metadata": {
    "ExecuteTime": {
     "end_time": "2025-03-19T18:20:41.466410Z",
     "start_time": "2025-03-19T18:20:41.459561Z"
    }
   },
   "cell_type": "code",
   "source": [
    "df['Name'].count()\n",
    "df.shape[0]"
   ],
   "id": "b184a790f7c83711",
   "outputs": [
    {
     "data": {
      "text/plain": [
       "5"
      ]
     },
     "execution_count": 13,
     "metadata": {},
     "output_type": "execute_result"
    }
   ],
   "execution_count": 13
  },
  {
   "metadata": {
    "ExecuteTime": {
     "end_time": "2025-03-19T18:21:36.762278Z",
     "start_time": "2025-03-19T18:21:36.756691Z"
    }
   },
   "cell_type": "code",
   "source": "df['Age'].mean()",
   "id": "929da453b0b3465a",
   "outputs": [
    {
     "data": {
      "text/plain": [
       "np.float64(20.8)"
      ]
     },
     "execution_count": 14,
     "metadata": {},
     "output_type": "execute_result"
    }
   ],
   "execution_count": 14
  },
  {
   "metadata": {
    "ExecuteTime": {
     "end_time": "2025-03-19T18:22:41.973678Z",
     "start_time": "2025-03-19T18:22:41.963586Z"
    }
   },
   "cell_type": "code",
   "source": "df[df['Grade'] > 8]",
   "id": "77f3578097eee7c1",
   "outputs": [
    {
     "data": {
      "text/plain": [
       "    Name  Age  Grade\n",
       "0  Alice   20      9\n",
       "3  David   20     10"
      ],
      "text/html": [
       "<div>\n",
       "<style scoped>\n",
       "    .dataframe tbody tr th:only-of-type {\n",
       "        vertical-align: middle;\n",
       "    }\n",
       "\n",
       "    .dataframe tbody tr th {\n",
       "        vertical-align: top;\n",
       "    }\n",
       "\n",
       "    .dataframe thead th {\n",
       "        text-align: right;\n",
       "    }\n",
       "</style>\n",
       "<table border=\"1\" class=\"dataframe\">\n",
       "  <thead>\n",
       "    <tr style=\"text-align: right;\">\n",
       "      <th></th>\n",
       "      <th>Name</th>\n",
       "      <th>Age</th>\n",
       "      <th>Grade</th>\n",
       "    </tr>\n",
       "  </thead>\n",
       "  <tbody>\n",
       "    <tr>\n",
       "      <th>0</th>\n",
       "      <td>Alice</td>\n",
       "      <td>20</td>\n",
       "      <td>9</td>\n",
       "    </tr>\n",
       "    <tr>\n",
       "      <th>3</th>\n",
       "      <td>David</td>\n",
       "      <td>20</td>\n",
       "      <td>10</td>\n",
       "    </tr>\n",
       "  </tbody>\n",
       "</table>\n",
       "</div>"
      ]
     },
     "execution_count": 15,
     "metadata": {},
     "output_type": "execute_result"
    }
   ],
   "execution_count": 15
  },
  {
   "metadata": {},
   "cell_type": "markdown",
   "source": "#### Task 3",
   "id": "5ac727e22ad850c9"
  },
  {
   "metadata": {
    "ExecuteTime": {
     "end_time": "2025-03-19T18:29:41.538445Z",
     "start_time": "2025-03-19T18:29:41.530016Z"
    }
   },
   "cell_type": "code",
   "source": [
    "# Adding to df\n",
    "data = {\n",
    "    'Product': ['Apple', 'Banana', 'Orange', 'Milk', 'Bread'],\n",
    "    'Quantity': [100, 80, 60, 40, 90],\n",
    "    'Price': [1.0, 0.5, 0.8, 2.5, 1.2]\n",
    "}\n",
    "\n",
    "df = pd.DataFrame(data)\n",
    "df"
   ],
   "id": "85c48221c336f800",
   "outputs": [
    {
     "data": {
      "text/plain": [
       "  Product  Quantity  Price\n",
       "0   Apple       100    1.0\n",
       "1  Banana        80    0.5\n",
       "2  Orange        60    0.8\n",
       "3    Milk        40    2.5\n",
       "4   Bread        90    1.2"
      ],
      "text/html": [
       "<div>\n",
       "<style scoped>\n",
       "    .dataframe tbody tr th:only-of-type {\n",
       "        vertical-align: middle;\n",
       "    }\n",
       "\n",
       "    .dataframe tbody tr th {\n",
       "        vertical-align: top;\n",
       "    }\n",
       "\n",
       "    .dataframe thead th {\n",
       "        text-align: right;\n",
       "    }\n",
       "</style>\n",
       "<table border=\"1\" class=\"dataframe\">\n",
       "  <thead>\n",
       "    <tr style=\"text-align: right;\">\n",
       "      <th></th>\n",
       "      <th>Product</th>\n",
       "      <th>Quantity</th>\n",
       "      <th>Price</th>\n",
       "    </tr>\n",
       "  </thead>\n",
       "  <tbody>\n",
       "    <tr>\n",
       "      <th>0</th>\n",
       "      <td>Apple</td>\n",
       "      <td>100</td>\n",
       "      <td>1.0</td>\n",
       "    </tr>\n",
       "    <tr>\n",
       "      <th>1</th>\n",
       "      <td>Banana</td>\n",
       "      <td>80</td>\n",
       "      <td>0.5</td>\n",
       "    </tr>\n",
       "    <tr>\n",
       "      <th>2</th>\n",
       "      <td>Orange</td>\n",
       "      <td>60</td>\n",
       "      <td>0.8</td>\n",
       "    </tr>\n",
       "    <tr>\n",
       "      <th>3</th>\n",
       "      <td>Milk</td>\n",
       "      <td>40</td>\n",
       "      <td>2.5</td>\n",
       "    </tr>\n",
       "    <tr>\n",
       "      <th>4</th>\n",
       "      <td>Bread</td>\n",
       "      <td>90</td>\n",
       "      <td>1.2</td>\n",
       "    </tr>\n",
       "  </tbody>\n",
       "</table>\n",
       "</div>"
      ]
     },
     "execution_count": 23,
     "metadata": {},
     "output_type": "execute_result"
    }
   ],
   "execution_count": 23
  },
  {
   "metadata": {
    "ExecuteTime": {
     "end_time": "2025-03-19T18:31:49.990303Z",
     "start_time": "2025-03-19T18:31:49.985745Z"
    }
   },
   "cell_type": "code",
   "source": [
    "# Adding column total\n",
    "\n",
    "df['Total'] = df['Quantity'] * df['Price']"
   ],
   "id": "bc0f74cc417181f6",
   "outputs": [],
   "execution_count": 25
  },
  {
   "metadata": {
    "ExecuteTime": {
     "end_time": "2025-03-19T18:31:52.766510Z",
     "start_time": "2025-03-19T18:31:52.759867Z"
    }
   },
   "cell_type": "code",
   "source": "df",
   "id": "936571f768689b47",
   "outputs": [
    {
     "data": {
      "text/plain": [
       "  Product  Quantity  Price  Total\n",
       "0   Apple       100    1.0  100.0\n",
       "1  Banana        80    0.5   40.0\n",
       "2  Orange        60    0.8   48.0\n",
       "3    Milk        40    2.5  100.0\n",
       "4   Bread        90    1.2  108.0"
      ],
      "text/html": [
       "<div>\n",
       "<style scoped>\n",
       "    .dataframe tbody tr th:only-of-type {\n",
       "        vertical-align: middle;\n",
       "    }\n",
       "\n",
       "    .dataframe tbody tr th {\n",
       "        vertical-align: top;\n",
       "    }\n",
       "\n",
       "    .dataframe thead th {\n",
       "        text-align: right;\n",
       "    }\n",
       "</style>\n",
       "<table border=\"1\" class=\"dataframe\">\n",
       "  <thead>\n",
       "    <tr style=\"text-align: right;\">\n",
       "      <th></th>\n",
       "      <th>Product</th>\n",
       "      <th>Quantity</th>\n",
       "      <th>Price</th>\n",
       "      <th>Total</th>\n",
       "    </tr>\n",
       "  </thead>\n",
       "  <tbody>\n",
       "    <tr>\n",
       "      <th>0</th>\n",
       "      <td>Apple</td>\n",
       "      <td>100</td>\n",
       "      <td>1.0</td>\n",
       "      <td>100.0</td>\n",
       "    </tr>\n",
       "    <tr>\n",
       "      <th>1</th>\n",
       "      <td>Banana</td>\n",
       "      <td>80</td>\n",
       "      <td>0.5</td>\n",
       "      <td>40.0</td>\n",
       "    </tr>\n",
       "    <tr>\n",
       "      <th>2</th>\n",
       "      <td>Orange</td>\n",
       "      <td>60</td>\n",
       "      <td>0.8</td>\n",
       "      <td>48.0</td>\n",
       "    </tr>\n",
       "    <tr>\n",
       "      <th>3</th>\n",
       "      <td>Milk</td>\n",
       "      <td>40</td>\n",
       "      <td>2.5</td>\n",
       "      <td>100.0</td>\n",
       "    </tr>\n",
       "    <tr>\n",
       "      <th>4</th>\n",
       "      <td>Bread</td>\n",
       "      <td>90</td>\n",
       "      <td>1.2</td>\n",
       "      <td>108.0</td>\n",
       "    </tr>\n",
       "  </tbody>\n",
       "</table>\n",
       "</div>"
      ]
     },
     "execution_count": 26,
     "metadata": {},
     "output_type": "execute_result"
    }
   ],
   "execution_count": 26
  },
  {
   "metadata": {
    "ExecuteTime": {
     "end_time": "2025-03-19T18:28:33.326753Z",
     "start_time": "2025-03-19T18:28:33.323185Z"
    }
   },
   "cell_type": "code",
   "source": [
    "# Overall revenue\n",
    "\n",
    "print(df['Total'].sum())"
   ],
   "id": "80f0e881a5c461ee",
   "outputs": [
    {
     "name": "stdout",
     "output_type": "stream",
     "text": [
      "396.0\n"
     ]
    }
   ],
   "execution_count": 20
  },
  {
   "metadata": {
    "ExecuteTime": {
     "end_time": "2025-03-19T18:29:20.037681Z",
     "start_time": "2025-03-19T18:29:20.031298Z"
    }
   },
   "cell_type": "code",
   "source": [
    "# products with items sold > 50\n",
    "\n",
    "df['Product'][df['Quantity'] > 50]"
   ],
   "id": "8f0233c2a2d3a82d",
   "outputs": [
    {
     "data": {
      "text/plain": [
       "0     Apple\n",
       "1    Banana\n",
       "2    Orange\n",
       "4     Bread\n",
       "Name: Product, dtype: object"
      ]
     },
     "execution_count": 22,
     "metadata": {},
     "output_type": "execute_result"
    }
   ],
   "execution_count": 22
  },
  {
   "metadata": {},
   "cell_type": "markdown",
   "source": "#### Task 4",
   "id": "5e4a74e3d7229891"
  },
  {
   "metadata": {
    "ExecuteTime": {
     "end_time": "2025-03-19T18:34:22.839268Z",
     "start_time": "2025-03-19T18:34:22.827114Z"
    }
   },
   "cell_type": "code",
   "source": [
    "# Adding to df\n",
    "df = pd.read_csv('hw_DE_12.csv')\n",
    "\n",
    "df"
   ],
   "id": "6eb577cddb1bdafa",
   "outputs": [
    {
     "data": {
      "text/plain": [
       "       id first_name  last_name                        email   gender  \\\n",
       "0       1    Zebulon     Sheara        zsheara0@buzzfeed.com     Male   \n",
       "1       2      Gabby      Hundy           ghundy1@dyndns.org     Male   \n",
       "2       3     Zaneta    Macewan         zmacewan2@dyndns.org   Female   \n",
       "3       4       Linn     Steely             lsteely3@psu.edu     Male   \n",
       "4       5     Althea      Segar            asegar4@prlog.org   Female   \n",
       "..    ...        ...        ...                          ...      ...   \n",
       "995   996    Zsa zsa  McGarahan  zmcgarahanrn@craigslist.org   Female   \n",
       "996   997         Al   Villiers  avilliersro@nydailynews.com  Agender   \n",
       "997   998   Natalina  Clavering        nclaveringrp@jugem.jp   Female   \n",
       "998   999     Gretta  Witheford   gwithefordrq@discovery.com   Female   \n",
       "999  1000      Tadio   Feighney        tfeighneyrr@google.es     Male   \n",
       "\n",
       "         ip_address  \n",
       "0    26.254.115.173  \n",
       "1    86.222.142.186  \n",
       "2      20.98.185.65  \n",
       "3    65.253.237.106  \n",
       "4     25.127.235.34  \n",
       "..              ...  \n",
       "995  208.135.43.154  \n",
       "996     168.3.4.142  \n",
       "997   16.223.145.44  \n",
       "998   61.83.241.246  \n",
       "999   154.243.103.8  \n",
       "\n",
       "[1000 rows x 6 columns]"
      ],
      "text/html": [
       "<div>\n",
       "<style scoped>\n",
       "    .dataframe tbody tr th:only-of-type {\n",
       "        vertical-align: middle;\n",
       "    }\n",
       "\n",
       "    .dataframe tbody tr th {\n",
       "        vertical-align: top;\n",
       "    }\n",
       "\n",
       "    .dataframe thead th {\n",
       "        text-align: right;\n",
       "    }\n",
       "</style>\n",
       "<table border=\"1\" class=\"dataframe\">\n",
       "  <thead>\n",
       "    <tr style=\"text-align: right;\">\n",
       "      <th></th>\n",
       "      <th>id</th>\n",
       "      <th>first_name</th>\n",
       "      <th>last_name</th>\n",
       "      <th>email</th>\n",
       "      <th>gender</th>\n",
       "      <th>ip_address</th>\n",
       "    </tr>\n",
       "  </thead>\n",
       "  <tbody>\n",
       "    <tr>\n",
       "      <th>0</th>\n",
       "      <td>1</td>\n",
       "      <td>Zebulon</td>\n",
       "      <td>Sheara</td>\n",
       "      <td>zsheara0@buzzfeed.com</td>\n",
       "      <td>Male</td>\n",
       "      <td>26.254.115.173</td>\n",
       "    </tr>\n",
       "    <tr>\n",
       "      <th>1</th>\n",
       "      <td>2</td>\n",
       "      <td>Gabby</td>\n",
       "      <td>Hundy</td>\n",
       "      <td>ghundy1@dyndns.org</td>\n",
       "      <td>Male</td>\n",
       "      <td>86.222.142.186</td>\n",
       "    </tr>\n",
       "    <tr>\n",
       "      <th>2</th>\n",
       "      <td>3</td>\n",
       "      <td>Zaneta</td>\n",
       "      <td>Macewan</td>\n",
       "      <td>zmacewan2@dyndns.org</td>\n",
       "      <td>Female</td>\n",
       "      <td>20.98.185.65</td>\n",
       "    </tr>\n",
       "    <tr>\n",
       "      <th>3</th>\n",
       "      <td>4</td>\n",
       "      <td>Linn</td>\n",
       "      <td>Steely</td>\n",
       "      <td>lsteely3@psu.edu</td>\n",
       "      <td>Male</td>\n",
       "      <td>65.253.237.106</td>\n",
       "    </tr>\n",
       "    <tr>\n",
       "      <th>4</th>\n",
       "      <td>5</td>\n",
       "      <td>Althea</td>\n",
       "      <td>Segar</td>\n",
       "      <td>asegar4@prlog.org</td>\n",
       "      <td>Female</td>\n",
       "      <td>25.127.235.34</td>\n",
       "    </tr>\n",
       "    <tr>\n",
       "      <th>...</th>\n",
       "      <td>...</td>\n",
       "      <td>...</td>\n",
       "      <td>...</td>\n",
       "      <td>...</td>\n",
       "      <td>...</td>\n",
       "      <td>...</td>\n",
       "    </tr>\n",
       "    <tr>\n",
       "      <th>995</th>\n",
       "      <td>996</td>\n",
       "      <td>Zsa zsa</td>\n",
       "      <td>McGarahan</td>\n",
       "      <td>zmcgarahanrn@craigslist.org</td>\n",
       "      <td>Female</td>\n",
       "      <td>208.135.43.154</td>\n",
       "    </tr>\n",
       "    <tr>\n",
       "      <th>996</th>\n",
       "      <td>997</td>\n",
       "      <td>Al</td>\n",
       "      <td>Villiers</td>\n",
       "      <td>avilliersro@nydailynews.com</td>\n",
       "      <td>Agender</td>\n",
       "      <td>168.3.4.142</td>\n",
       "    </tr>\n",
       "    <tr>\n",
       "      <th>997</th>\n",
       "      <td>998</td>\n",
       "      <td>Natalina</td>\n",
       "      <td>Clavering</td>\n",
       "      <td>nclaveringrp@jugem.jp</td>\n",
       "      <td>Female</td>\n",
       "      <td>16.223.145.44</td>\n",
       "    </tr>\n",
       "    <tr>\n",
       "      <th>998</th>\n",
       "      <td>999</td>\n",
       "      <td>Gretta</td>\n",
       "      <td>Witheford</td>\n",
       "      <td>gwithefordrq@discovery.com</td>\n",
       "      <td>Female</td>\n",
       "      <td>61.83.241.246</td>\n",
       "    </tr>\n",
       "    <tr>\n",
       "      <th>999</th>\n",
       "      <td>1000</td>\n",
       "      <td>Tadio</td>\n",
       "      <td>Feighney</td>\n",
       "      <td>tfeighneyrr@google.es</td>\n",
       "      <td>Male</td>\n",
       "      <td>154.243.103.8</td>\n",
       "    </tr>\n",
       "  </tbody>\n",
       "</table>\n",
       "<p>1000 rows × 6 columns</p>\n",
       "</div>"
      ]
     },
     "execution_count": 28,
     "metadata": {},
     "output_type": "execute_result"
    }
   ],
   "execution_count": 28
  },
  {
   "metadata": {
    "ExecuteTime": {
     "end_time": "2025-03-19T18:37:03.710527Z",
     "start_time": "2025-03-19T18:37:03.705593Z"
    }
   },
   "cell_type": "code",
   "source": [
    "import numpy as np\n",
    "\n",
    "\n",
    "# adding column with random numbers\n",
    "df['age'] = np.random.randint(18, 66, size=len(df))"
   ],
   "id": "6a5234b4358ee5ae",
   "outputs": [],
   "execution_count": 31
  },
  {
   "metadata": {
    "ExecuteTime": {
     "end_time": "2025-03-19T18:37:06.155252Z",
     "start_time": "2025-03-19T18:37:06.146572Z"
    }
   },
   "cell_type": "code",
   "source": "df",
   "id": "977213656784fdd7",
   "outputs": [
    {
     "data": {
      "text/plain": [
       "       id first_name  last_name                        email   gender  \\\n",
       "0       1    Zebulon     Sheara        zsheara0@buzzfeed.com     Male   \n",
       "1       2      Gabby      Hundy           ghundy1@dyndns.org     Male   \n",
       "2       3     Zaneta    Macewan         zmacewan2@dyndns.org   Female   \n",
       "3       4       Linn     Steely             lsteely3@psu.edu     Male   \n",
       "4       5     Althea      Segar            asegar4@prlog.org   Female   \n",
       "..    ...        ...        ...                          ...      ...   \n",
       "995   996    Zsa zsa  McGarahan  zmcgarahanrn@craigslist.org   Female   \n",
       "996   997         Al   Villiers  avilliersro@nydailynews.com  Agender   \n",
       "997   998   Natalina  Clavering        nclaveringrp@jugem.jp   Female   \n",
       "998   999     Gretta  Witheford   gwithefordrq@discovery.com   Female   \n",
       "999  1000      Tadio   Feighney        tfeighneyrr@google.es     Male   \n",
       "\n",
       "         ip_address  age  \n",
       "0    26.254.115.173   53  \n",
       "1    86.222.142.186   44  \n",
       "2      20.98.185.65   43  \n",
       "3    65.253.237.106   26  \n",
       "4     25.127.235.34   50  \n",
       "..              ...  ...  \n",
       "995  208.135.43.154   43  \n",
       "996     168.3.4.142   60  \n",
       "997   16.223.145.44   32  \n",
       "998   61.83.241.246   29  \n",
       "999   154.243.103.8   28  \n",
       "\n",
       "[1000 rows x 7 columns]"
      ],
      "text/html": [
       "<div>\n",
       "<style scoped>\n",
       "    .dataframe tbody tr th:only-of-type {\n",
       "        vertical-align: middle;\n",
       "    }\n",
       "\n",
       "    .dataframe tbody tr th {\n",
       "        vertical-align: top;\n",
       "    }\n",
       "\n",
       "    .dataframe thead th {\n",
       "        text-align: right;\n",
       "    }\n",
       "</style>\n",
       "<table border=\"1\" class=\"dataframe\">\n",
       "  <thead>\n",
       "    <tr style=\"text-align: right;\">\n",
       "      <th></th>\n",
       "      <th>id</th>\n",
       "      <th>first_name</th>\n",
       "      <th>last_name</th>\n",
       "      <th>email</th>\n",
       "      <th>gender</th>\n",
       "      <th>ip_address</th>\n",
       "      <th>age</th>\n",
       "    </tr>\n",
       "  </thead>\n",
       "  <tbody>\n",
       "    <tr>\n",
       "      <th>0</th>\n",
       "      <td>1</td>\n",
       "      <td>Zebulon</td>\n",
       "      <td>Sheara</td>\n",
       "      <td>zsheara0@buzzfeed.com</td>\n",
       "      <td>Male</td>\n",
       "      <td>26.254.115.173</td>\n",
       "      <td>53</td>\n",
       "    </tr>\n",
       "    <tr>\n",
       "      <th>1</th>\n",
       "      <td>2</td>\n",
       "      <td>Gabby</td>\n",
       "      <td>Hundy</td>\n",
       "      <td>ghundy1@dyndns.org</td>\n",
       "      <td>Male</td>\n",
       "      <td>86.222.142.186</td>\n",
       "      <td>44</td>\n",
       "    </tr>\n",
       "    <tr>\n",
       "      <th>2</th>\n",
       "      <td>3</td>\n",
       "      <td>Zaneta</td>\n",
       "      <td>Macewan</td>\n",
       "      <td>zmacewan2@dyndns.org</td>\n",
       "      <td>Female</td>\n",
       "      <td>20.98.185.65</td>\n",
       "      <td>43</td>\n",
       "    </tr>\n",
       "    <tr>\n",
       "      <th>3</th>\n",
       "      <td>4</td>\n",
       "      <td>Linn</td>\n",
       "      <td>Steely</td>\n",
       "      <td>lsteely3@psu.edu</td>\n",
       "      <td>Male</td>\n",
       "      <td>65.253.237.106</td>\n",
       "      <td>26</td>\n",
       "    </tr>\n",
       "    <tr>\n",
       "      <th>4</th>\n",
       "      <td>5</td>\n",
       "      <td>Althea</td>\n",
       "      <td>Segar</td>\n",
       "      <td>asegar4@prlog.org</td>\n",
       "      <td>Female</td>\n",
       "      <td>25.127.235.34</td>\n",
       "      <td>50</td>\n",
       "    </tr>\n",
       "    <tr>\n",
       "      <th>...</th>\n",
       "      <td>...</td>\n",
       "      <td>...</td>\n",
       "      <td>...</td>\n",
       "      <td>...</td>\n",
       "      <td>...</td>\n",
       "      <td>...</td>\n",
       "      <td>...</td>\n",
       "    </tr>\n",
       "    <tr>\n",
       "      <th>995</th>\n",
       "      <td>996</td>\n",
       "      <td>Zsa zsa</td>\n",
       "      <td>McGarahan</td>\n",
       "      <td>zmcgarahanrn@craigslist.org</td>\n",
       "      <td>Female</td>\n",
       "      <td>208.135.43.154</td>\n",
       "      <td>43</td>\n",
       "    </tr>\n",
       "    <tr>\n",
       "      <th>996</th>\n",
       "      <td>997</td>\n",
       "      <td>Al</td>\n",
       "      <td>Villiers</td>\n",
       "      <td>avilliersro@nydailynews.com</td>\n",
       "      <td>Agender</td>\n",
       "      <td>168.3.4.142</td>\n",
       "      <td>60</td>\n",
       "    </tr>\n",
       "    <tr>\n",
       "      <th>997</th>\n",
       "      <td>998</td>\n",
       "      <td>Natalina</td>\n",
       "      <td>Clavering</td>\n",
       "      <td>nclaveringrp@jugem.jp</td>\n",
       "      <td>Female</td>\n",
       "      <td>16.223.145.44</td>\n",
       "      <td>32</td>\n",
       "    </tr>\n",
       "    <tr>\n",
       "      <th>998</th>\n",
       "      <td>999</td>\n",
       "      <td>Gretta</td>\n",
       "      <td>Witheford</td>\n",
       "      <td>gwithefordrq@discovery.com</td>\n",
       "      <td>Female</td>\n",
       "      <td>61.83.241.246</td>\n",
       "      <td>29</td>\n",
       "    </tr>\n",
       "    <tr>\n",
       "      <th>999</th>\n",
       "      <td>1000</td>\n",
       "      <td>Tadio</td>\n",
       "      <td>Feighney</td>\n",
       "      <td>tfeighneyrr@google.es</td>\n",
       "      <td>Male</td>\n",
       "      <td>154.243.103.8</td>\n",
       "      <td>28</td>\n",
       "    </tr>\n",
       "  </tbody>\n",
       "</table>\n",
       "<p>1000 rows × 7 columns</p>\n",
       "</div>"
      ]
     },
     "execution_count": 32,
     "metadata": {},
     "output_type": "execute_result"
    }
   ],
   "execution_count": 32
  },
  {
   "metadata": {
    "ExecuteTime": {
     "end_time": "2025-03-19T18:39:46.386537Z",
     "start_time": "2025-03-19T18:39:46.377448Z"
    }
   },
   "cell_type": "code",
   "source": [
    "youth_df = df[(df.age >= 18) & (df.age <= 25)]\n",
    "\n",
    "youth_df"
   ],
   "id": "4982ec10d4f198cb",
   "outputs": [
    {
     "data": {
      "text/plain": [
       "      id first_name   last_name                            email      gender  \\\n",
       "5      6      Poppy     Kinnard            pkinnard5@mozilla.org      Female   \n",
       "12    13     Conrad    Ceillier       cceillierc@squarespace.com        Male   \n",
       "16    17   Humfried  Ohanessian           hohanessiang@wufoo.com        Male   \n",
       "19    20      Donal    Cosgrove           dcosgrovej@walmart.com        Male   \n",
       "24    25   Sterling       Cheke                schekeo@baidu.com  Polygender   \n",
       "..   ...        ...         ...                              ...         ...   \n",
       "939  940       Alic   Swatridge           aswatridgeq3@yandex.ru        Male   \n",
       "948  949   Ludovika     Nyssens          lnyssensqc@facebook.com      Female   \n",
       "964  965      Drake    Garriock            dgarriockqs@google.fr        Male   \n",
       "982  983      Urban     Kerkham             ukerkhamra@patch.com        Male   \n",
       "984  985       Lula       Almon  lalmonrc@nationalgeographic.com      Female   \n",
       "\n",
       "          ip_address  age  \n",
       "5      246.66.172.88   20  \n",
       "12    77.176.126.146   19  \n",
       "16     16.207.33.214   19  \n",
       "19   234.120.141.220   19  \n",
       "24     55.50.211.191   20  \n",
       "..               ...  ...  \n",
       "939    208.76.170.20   23  \n",
       "948    59.146.200.64   23  \n",
       "964    228.83.150.83   24  \n",
       "982   240.171.37.254   20  \n",
       "984    142.209.10.99   18  \n",
       "\n",
       "[161 rows x 7 columns]"
      ],
      "text/html": [
       "<div>\n",
       "<style scoped>\n",
       "    .dataframe tbody tr th:only-of-type {\n",
       "        vertical-align: middle;\n",
       "    }\n",
       "\n",
       "    .dataframe tbody tr th {\n",
       "        vertical-align: top;\n",
       "    }\n",
       "\n",
       "    .dataframe thead th {\n",
       "        text-align: right;\n",
       "    }\n",
       "</style>\n",
       "<table border=\"1\" class=\"dataframe\">\n",
       "  <thead>\n",
       "    <tr style=\"text-align: right;\">\n",
       "      <th></th>\n",
       "      <th>id</th>\n",
       "      <th>first_name</th>\n",
       "      <th>last_name</th>\n",
       "      <th>email</th>\n",
       "      <th>gender</th>\n",
       "      <th>ip_address</th>\n",
       "      <th>age</th>\n",
       "    </tr>\n",
       "  </thead>\n",
       "  <tbody>\n",
       "    <tr>\n",
       "      <th>5</th>\n",
       "      <td>6</td>\n",
       "      <td>Poppy</td>\n",
       "      <td>Kinnard</td>\n",
       "      <td>pkinnard5@mozilla.org</td>\n",
       "      <td>Female</td>\n",
       "      <td>246.66.172.88</td>\n",
       "      <td>20</td>\n",
       "    </tr>\n",
       "    <tr>\n",
       "      <th>12</th>\n",
       "      <td>13</td>\n",
       "      <td>Conrad</td>\n",
       "      <td>Ceillier</td>\n",
       "      <td>cceillierc@squarespace.com</td>\n",
       "      <td>Male</td>\n",
       "      <td>77.176.126.146</td>\n",
       "      <td>19</td>\n",
       "    </tr>\n",
       "    <tr>\n",
       "      <th>16</th>\n",
       "      <td>17</td>\n",
       "      <td>Humfried</td>\n",
       "      <td>Ohanessian</td>\n",
       "      <td>hohanessiang@wufoo.com</td>\n",
       "      <td>Male</td>\n",
       "      <td>16.207.33.214</td>\n",
       "      <td>19</td>\n",
       "    </tr>\n",
       "    <tr>\n",
       "      <th>19</th>\n",
       "      <td>20</td>\n",
       "      <td>Donal</td>\n",
       "      <td>Cosgrove</td>\n",
       "      <td>dcosgrovej@walmart.com</td>\n",
       "      <td>Male</td>\n",
       "      <td>234.120.141.220</td>\n",
       "      <td>19</td>\n",
       "    </tr>\n",
       "    <tr>\n",
       "      <th>24</th>\n",
       "      <td>25</td>\n",
       "      <td>Sterling</td>\n",
       "      <td>Cheke</td>\n",
       "      <td>schekeo@baidu.com</td>\n",
       "      <td>Polygender</td>\n",
       "      <td>55.50.211.191</td>\n",
       "      <td>20</td>\n",
       "    </tr>\n",
       "    <tr>\n",
       "      <th>...</th>\n",
       "      <td>...</td>\n",
       "      <td>...</td>\n",
       "      <td>...</td>\n",
       "      <td>...</td>\n",
       "      <td>...</td>\n",
       "      <td>...</td>\n",
       "      <td>...</td>\n",
       "    </tr>\n",
       "    <tr>\n",
       "      <th>939</th>\n",
       "      <td>940</td>\n",
       "      <td>Alic</td>\n",
       "      <td>Swatridge</td>\n",
       "      <td>aswatridgeq3@yandex.ru</td>\n",
       "      <td>Male</td>\n",
       "      <td>208.76.170.20</td>\n",
       "      <td>23</td>\n",
       "    </tr>\n",
       "    <tr>\n",
       "      <th>948</th>\n",
       "      <td>949</td>\n",
       "      <td>Ludovika</td>\n",
       "      <td>Nyssens</td>\n",
       "      <td>lnyssensqc@facebook.com</td>\n",
       "      <td>Female</td>\n",
       "      <td>59.146.200.64</td>\n",
       "      <td>23</td>\n",
       "    </tr>\n",
       "    <tr>\n",
       "      <th>964</th>\n",
       "      <td>965</td>\n",
       "      <td>Drake</td>\n",
       "      <td>Garriock</td>\n",
       "      <td>dgarriockqs@google.fr</td>\n",
       "      <td>Male</td>\n",
       "      <td>228.83.150.83</td>\n",
       "      <td>24</td>\n",
       "    </tr>\n",
       "    <tr>\n",
       "      <th>982</th>\n",
       "      <td>983</td>\n",
       "      <td>Urban</td>\n",
       "      <td>Kerkham</td>\n",
       "      <td>ukerkhamra@patch.com</td>\n",
       "      <td>Male</td>\n",
       "      <td>240.171.37.254</td>\n",
       "      <td>20</td>\n",
       "    </tr>\n",
       "    <tr>\n",
       "      <th>984</th>\n",
       "      <td>985</td>\n",
       "      <td>Lula</td>\n",
       "      <td>Almon</td>\n",
       "      <td>lalmonrc@nationalgeographic.com</td>\n",
       "      <td>Female</td>\n",
       "      <td>142.209.10.99</td>\n",
       "      <td>18</td>\n",
       "    </tr>\n",
       "  </tbody>\n",
       "</table>\n",
       "<p>161 rows × 7 columns</p>\n",
       "</div>"
      ]
     },
     "execution_count": 33,
     "metadata": {},
     "output_type": "execute_result"
    }
   ],
   "execution_count": 33
  },
  {
   "metadata": {
    "ExecuteTime": {
     "end_time": "2025-03-19T18:42:39.686335Z",
     "start_time": "2025-03-19T18:42:39.676979Z"
    }
   },
   "cell_type": "code",
   "source": [
    "adults_df = df[(df.age >= 26) & (df.age <= 35)]\n",
    "\n",
    "adults_df"
   ],
   "id": "fc05d61f78b5ec47",
   "outputs": [
    {
     "data": {
      "text/plain": [
       "       id first_name    last_name                           email      gender  \\\n",
       "3       4       Linn       Steely                lsteely3@psu.edu        Male   \n",
       "20     21     Abbott  Cumberledge     acumberledgek@aboutads.info        Male   \n",
       "26     27      Nanon      Lamblin  nlamblinq@networksolutions.com      Female   \n",
       "29     30    Reynard      Breeton                rbreetont@nhs.uk        Male   \n",
       "37     38      Rahal        Polly                rpolly11@soup.io      Female   \n",
       "..    ...        ...          ...                             ...         ...   \n",
       "980   981     Pennie      Itzhaki            pitzhakir8@wiley.com      Female   \n",
       "983   984   Claudina       Savery            csaveryrb@smh.com.au  Non-binary   \n",
       "997   998   Natalina    Clavering           nclaveringrp@jugem.jp      Female   \n",
       "998   999     Gretta    Witheford      gwithefordrq@discovery.com      Female   \n",
       "999  1000      Tadio     Feighney           tfeighneyrr@google.es        Male   \n",
       "\n",
       "         ip_address  age  \n",
       "3    65.253.237.106   26  \n",
       "20    8.228.130.210   31  \n",
       "26   52.234.189.243   33  \n",
       "29   35.207.155.210   35  \n",
       "37   74.143.141.169   26  \n",
       "..              ...  ...  \n",
       "980  186.15.175.207   27  \n",
       "983  135.123.30.141   34  \n",
       "997   16.223.145.44   32  \n",
       "998   61.83.241.246   29  \n",
       "999   154.243.103.8   28  \n",
       "\n",
       "[227 rows x 7 columns]"
      ],
      "text/html": [
       "<div>\n",
       "<style scoped>\n",
       "    .dataframe tbody tr th:only-of-type {\n",
       "        vertical-align: middle;\n",
       "    }\n",
       "\n",
       "    .dataframe tbody tr th {\n",
       "        vertical-align: top;\n",
       "    }\n",
       "\n",
       "    .dataframe thead th {\n",
       "        text-align: right;\n",
       "    }\n",
       "</style>\n",
       "<table border=\"1\" class=\"dataframe\">\n",
       "  <thead>\n",
       "    <tr style=\"text-align: right;\">\n",
       "      <th></th>\n",
       "      <th>id</th>\n",
       "      <th>first_name</th>\n",
       "      <th>last_name</th>\n",
       "      <th>email</th>\n",
       "      <th>gender</th>\n",
       "      <th>ip_address</th>\n",
       "      <th>age</th>\n",
       "    </tr>\n",
       "  </thead>\n",
       "  <tbody>\n",
       "    <tr>\n",
       "      <th>3</th>\n",
       "      <td>4</td>\n",
       "      <td>Linn</td>\n",
       "      <td>Steely</td>\n",
       "      <td>lsteely3@psu.edu</td>\n",
       "      <td>Male</td>\n",
       "      <td>65.253.237.106</td>\n",
       "      <td>26</td>\n",
       "    </tr>\n",
       "    <tr>\n",
       "      <th>20</th>\n",
       "      <td>21</td>\n",
       "      <td>Abbott</td>\n",
       "      <td>Cumberledge</td>\n",
       "      <td>acumberledgek@aboutads.info</td>\n",
       "      <td>Male</td>\n",
       "      <td>8.228.130.210</td>\n",
       "      <td>31</td>\n",
       "    </tr>\n",
       "    <tr>\n",
       "      <th>26</th>\n",
       "      <td>27</td>\n",
       "      <td>Nanon</td>\n",
       "      <td>Lamblin</td>\n",
       "      <td>nlamblinq@networksolutions.com</td>\n",
       "      <td>Female</td>\n",
       "      <td>52.234.189.243</td>\n",
       "      <td>33</td>\n",
       "    </tr>\n",
       "    <tr>\n",
       "      <th>29</th>\n",
       "      <td>30</td>\n",
       "      <td>Reynard</td>\n",
       "      <td>Breeton</td>\n",
       "      <td>rbreetont@nhs.uk</td>\n",
       "      <td>Male</td>\n",
       "      <td>35.207.155.210</td>\n",
       "      <td>35</td>\n",
       "    </tr>\n",
       "    <tr>\n",
       "      <th>37</th>\n",
       "      <td>38</td>\n",
       "      <td>Rahal</td>\n",
       "      <td>Polly</td>\n",
       "      <td>rpolly11@soup.io</td>\n",
       "      <td>Female</td>\n",
       "      <td>74.143.141.169</td>\n",
       "      <td>26</td>\n",
       "    </tr>\n",
       "    <tr>\n",
       "      <th>...</th>\n",
       "      <td>...</td>\n",
       "      <td>...</td>\n",
       "      <td>...</td>\n",
       "      <td>...</td>\n",
       "      <td>...</td>\n",
       "      <td>...</td>\n",
       "      <td>...</td>\n",
       "    </tr>\n",
       "    <tr>\n",
       "      <th>980</th>\n",
       "      <td>981</td>\n",
       "      <td>Pennie</td>\n",
       "      <td>Itzhaki</td>\n",
       "      <td>pitzhakir8@wiley.com</td>\n",
       "      <td>Female</td>\n",
       "      <td>186.15.175.207</td>\n",
       "      <td>27</td>\n",
       "    </tr>\n",
       "    <tr>\n",
       "      <th>983</th>\n",
       "      <td>984</td>\n",
       "      <td>Claudina</td>\n",
       "      <td>Savery</td>\n",
       "      <td>csaveryrb@smh.com.au</td>\n",
       "      <td>Non-binary</td>\n",
       "      <td>135.123.30.141</td>\n",
       "      <td>34</td>\n",
       "    </tr>\n",
       "    <tr>\n",
       "      <th>997</th>\n",
       "      <td>998</td>\n",
       "      <td>Natalina</td>\n",
       "      <td>Clavering</td>\n",
       "      <td>nclaveringrp@jugem.jp</td>\n",
       "      <td>Female</td>\n",
       "      <td>16.223.145.44</td>\n",
       "      <td>32</td>\n",
       "    </tr>\n",
       "    <tr>\n",
       "      <th>998</th>\n",
       "      <td>999</td>\n",
       "      <td>Gretta</td>\n",
       "      <td>Witheford</td>\n",
       "      <td>gwithefordrq@discovery.com</td>\n",
       "      <td>Female</td>\n",
       "      <td>61.83.241.246</td>\n",
       "      <td>29</td>\n",
       "    </tr>\n",
       "    <tr>\n",
       "      <th>999</th>\n",
       "      <td>1000</td>\n",
       "      <td>Tadio</td>\n",
       "      <td>Feighney</td>\n",
       "      <td>tfeighneyrr@google.es</td>\n",
       "      <td>Male</td>\n",
       "      <td>154.243.103.8</td>\n",
       "      <td>28</td>\n",
       "    </tr>\n",
       "  </tbody>\n",
       "</table>\n",
       "<p>227 rows × 7 columns</p>\n",
       "</div>"
      ]
     },
     "execution_count": 34,
     "metadata": {},
     "output_type": "execute_result"
    }
   ],
   "execution_count": 34
  },
  {
   "metadata": {
    "ExecuteTime": {
     "end_time": "2025-03-19T18:43:07.630339Z",
     "start_time": "2025-03-19T18:43:07.620483Z"
    }
   },
   "cell_type": "code",
   "source": [
    "true_adults_df = df[(df.age >= 36) & (df.age <= 50)]\n",
    "\n",
    "true_adults_df"
   ],
   "id": "787c3fbe953b9ad3",
   "outputs": [
    {
     "data": {
      "text/plain": [
       "      id first_name   last_name                            email   gender  \\\n",
       "1      2      Gabby       Hundy               ghundy1@dyndns.org     Male   \n",
       "2      3     Zaneta     Macewan             zmacewan2@dyndns.org   Female   \n",
       "4      5     Althea       Segar                asegar4@prlog.org   Female   \n",
       "6      7     Tanhya  Allabarton          tallabarton6@eepurl.com   Female   \n",
       "7      8     Anetta      Herety               aherety7@github.io   Female   \n",
       "..   ...        ...         ...                              ...      ...   \n",
       "979  980   Terri-jo     Gethins  tgethinsr7@networksolutions.com   Female   \n",
       "987  988    Krystal      Farney                kfarneyrf@irs.gov   Female   \n",
       "992  993  Chantalle       Mogra                cmogrark@etsy.com  Agender   \n",
       "993  994  Morganica     Pierton               mpiertonrl@epa.gov   Female   \n",
       "995  996    Zsa zsa   McGarahan      zmcgarahanrn@craigslist.org   Female   \n",
       "\n",
       "         ip_address  age  \n",
       "1    86.222.142.186   44  \n",
       "2      20.98.185.65   43  \n",
       "4     25.127.235.34   50  \n",
       "6    71.244.198.196   44  \n",
       "7     40.45.249.248   45  \n",
       "..              ...  ...  \n",
       "979   196.60.133.98   43  \n",
       "987   53.74.126.116   36  \n",
       "992      7.157.7.35   43  \n",
       "993  150.213.150.57   45  \n",
       "995  208.135.43.154   43  \n",
       "\n",
       "[324 rows x 7 columns]"
      ],
      "text/html": [
       "<div>\n",
       "<style scoped>\n",
       "    .dataframe tbody tr th:only-of-type {\n",
       "        vertical-align: middle;\n",
       "    }\n",
       "\n",
       "    .dataframe tbody tr th {\n",
       "        vertical-align: top;\n",
       "    }\n",
       "\n",
       "    .dataframe thead th {\n",
       "        text-align: right;\n",
       "    }\n",
       "</style>\n",
       "<table border=\"1\" class=\"dataframe\">\n",
       "  <thead>\n",
       "    <tr style=\"text-align: right;\">\n",
       "      <th></th>\n",
       "      <th>id</th>\n",
       "      <th>first_name</th>\n",
       "      <th>last_name</th>\n",
       "      <th>email</th>\n",
       "      <th>gender</th>\n",
       "      <th>ip_address</th>\n",
       "      <th>age</th>\n",
       "    </tr>\n",
       "  </thead>\n",
       "  <tbody>\n",
       "    <tr>\n",
       "      <th>1</th>\n",
       "      <td>2</td>\n",
       "      <td>Gabby</td>\n",
       "      <td>Hundy</td>\n",
       "      <td>ghundy1@dyndns.org</td>\n",
       "      <td>Male</td>\n",
       "      <td>86.222.142.186</td>\n",
       "      <td>44</td>\n",
       "    </tr>\n",
       "    <tr>\n",
       "      <th>2</th>\n",
       "      <td>3</td>\n",
       "      <td>Zaneta</td>\n",
       "      <td>Macewan</td>\n",
       "      <td>zmacewan2@dyndns.org</td>\n",
       "      <td>Female</td>\n",
       "      <td>20.98.185.65</td>\n",
       "      <td>43</td>\n",
       "    </tr>\n",
       "    <tr>\n",
       "      <th>4</th>\n",
       "      <td>5</td>\n",
       "      <td>Althea</td>\n",
       "      <td>Segar</td>\n",
       "      <td>asegar4@prlog.org</td>\n",
       "      <td>Female</td>\n",
       "      <td>25.127.235.34</td>\n",
       "      <td>50</td>\n",
       "    </tr>\n",
       "    <tr>\n",
       "      <th>6</th>\n",
       "      <td>7</td>\n",
       "      <td>Tanhya</td>\n",
       "      <td>Allabarton</td>\n",
       "      <td>tallabarton6@eepurl.com</td>\n",
       "      <td>Female</td>\n",
       "      <td>71.244.198.196</td>\n",
       "      <td>44</td>\n",
       "    </tr>\n",
       "    <tr>\n",
       "      <th>7</th>\n",
       "      <td>8</td>\n",
       "      <td>Anetta</td>\n",
       "      <td>Herety</td>\n",
       "      <td>aherety7@github.io</td>\n",
       "      <td>Female</td>\n",
       "      <td>40.45.249.248</td>\n",
       "      <td>45</td>\n",
       "    </tr>\n",
       "    <tr>\n",
       "      <th>...</th>\n",
       "      <td>...</td>\n",
       "      <td>...</td>\n",
       "      <td>...</td>\n",
       "      <td>...</td>\n",
       "      <td>...</td>\n",
       "      <td>...</td>\n",
       "      <td>...</td>\n",
       "    </tr>\n",
       "    <tr>\n",
       "      <th>979</th>\n",
       "      <td>980</td>\n",
       "      <td>Terri-jo</td>\n",
       "      <td>Gethins</td>\n",
       "      <td>tgethinsr7@networksolutions.com</td>\n",
       "      <td>Female</td>\n",
       "      <td>196.60.133.98</td>\n",
       "      <td>43</td>\n",
       "    </tr>\n",
       "    <tr>\n",
       "      <th>987</th>\n",
       "      <td>988</td>\n",
       "      <td>Krystal</td>\n",
       "      <td>Farney</td>\n",
       "      <td>kfarneyrf@irs.gov</td>\n",
       "      <td>Female</td>\n",
       "      <td>53.74.126.116</td>\n",
       "      <td>36</td>\n",
       "    </tr>\n",
       "    <tr>\n",
       "      <th>992</th>\n",
       "      <td>993</td>\n",
       "      <td>Chantalle</td>\n",
       "      <td>Mogra</td>\n",
       "      <td>cmogrark@etsy.com</td>\n",
       "      <td>Agender</td>\n",
       "      <td>7.157.7.35</td>\n",
       "      <td>43</td>\n",
       "    </tr>\n",
       "    <tr>\n",
       "      <th>993</th>\n",
       "      <td>994</td>\n",
       "      <td>Morganica</td>\n",
       "      <td>Pierton</td>\n",
       "      <td>mpiertonrl@epa.gov</td>\n",
       "      <td>Female</td>\n",
       "      <td>150.213.150.57</td>\n",
       "      <td>45</td>\n",
       "    </tr>\n",
       "    <tr>\n",
       "      <th>995</th>\n",
       "      <td>996</td>\n",
       "      <td>Zsa zsa</td>\n",
       "      <td>McGarahan</td>\n",
       "      <td>zmcgarahanrn@craigslist.org</td>\n",
       "      <td>Female</td>\n",
       "      <td>208.135.43.154</td>\n",
       "      <td>43</td>\n",
       "    </tr>\n",
       "  </tbody>\n",
       "</table>\n",
       "<p>324 rows × 7 columns</p>\n",
       "</div>"
      ]
     },
     "execution_count": 35,
     "metadata": {},
     "output_type": "execute_result"
    }
   ],
   "execution_count": 35
  },
  {
   "metadata": {
    "ExecuteTime": {
     "end_time": "2025-03-19T18:43:34.412699Z",
     "start_time": "2025-03-19T18:43:34.402447Z"
    }
   },
   "cell_type": "code",
   "source": [
    "hardcore_adults_df = df[df.age >= 51]\n",
    "\n",
    "hardcore_adults_df"
   ],
   "id": "cb138c609b469ac4",
   "outputs": [
    {
     "data": {
      "text/plain": [
       "      id first_name   last_name                            email       gender  \\\n",
       "0      1    Zebulon      Sheara            zsheara0@buzzfeed.com         Male   \n",
       "8      9      Kaile  Clementson          kclementson8@rediff.com       Female   \n",
       "9     10    Blanche    Akehurst          bakehurst9@newsvine.com       Female   \n",
       "10    11     Melosa     Boneham          mbonehama@quantcast.com       Female   \n",
       "15    16      Mamie  Wainwright     mwainwrightf@studiopress.com       Female   \n",
       "..   ...        ...         ...                              ...          ...   \n",
       "989  990  Francesca    Shorrock  fshorrockrh@creativecommons.org       Female   \n",
       "990  991      Boone      Gerrey              bgerreyri@amazon.de         Male   \n",
       "991  992    Chaunce       Askie                 caskierj@fc2.com         Male   \n",
       "994  995      Ibbie     Appleby           iapplebyrm@alibaba.com  Genderqueer   \n",
       "996  997         Al    Villiers      avilliersro@nydailynews.com      Agender   \n",
       "\n",
       "          ip_address  age  \n",
       "0     26.254.115.173   53  \n",
       "8      147.21.239.61   51  \n",
       "9    219.148.148.134   64  \n",
       "10    176.120.71.216   56  \n",
       "15   163.100.199.174   55  \n",
       "..               ...  ...  \n",
       "989     168.4.169.89   58  \n",
       "990    191.139.46.86   64  \n",
       "991      36.3.185.58   63  \n",
       "994   236.77.139.163   62  \n",
       "996      168.3.4.142   60  \n",
       "\n",
       "[288 rows x 7 columns]"
      ],
      "text/html": [
       "<div>\n",
       "<style scoped>\n",
       "    .dataframe tbody tr th:only-of-type {\n",
       "        vertical-align: middle;\n",
       "    }\n",
       "\n",
       "    .dataframe tbody tr th {\n",
       "        vertical-align: top;\n",
       "    }\n",
       "\n",
       "    .dataframe thead th {\n",
       "        text-align: right;\n",
       "    }\n",
       "</style>\n",
       "<table border=\"1\" class=\"dataframe\">\n",
       "  <thead>\n",
       "    <tr style=\"text-align: right;\">\n",
       "      <th></th>\n",
       "      <th>id</th>\n",
       "      <th>first_name</th>\n",
       "      <th>last_name</th>\n",
       "      <th>email</th>\n",
       "      <th>gender</th>\n",
       "      <th>ip_address</th>\n",
       "      <th>age</th>\n",
       "    </tr>\n",
       "  </thead>\n",
       "  <tbody>\n",
       "    <tr>\n",
       "      <th>0</th>\n",
       "      <td>1</td>\n",
       "      <td>Zebulon</td>\n",
       "      <td>Sheara</td>\n",
       "      <td>zsheara0@buzzfeed.com</td>\n",
       "      <td>Male</td>\n",
       "      <td>26.254.115.173</td>\n",
       "      <td>53</td>\n",
       "    </tr>\n",
       "    <tr>\n",
       "      <th>8</th>\n",
       "      <td>9</td>\n",
       "      <td>Kaile</td>\n",
       "      <td>Clementson</td>\n",
       "      <td>kclementson8@rediff.com</td>\n",
       "      <td>Female</td>\n",
       "      <td>147.21.239.61</td>\n",
       "      <td>51</td>\n",
       "    </tr>\n",
       "    <tr>\n",
       "      <th>9</th>\n",
       "      <td>10</td>\n",
       "      <td>Blanche</td>\n",
       "      <td>Akehurst</td>\n",
       "      <td>bakehurst9@newsvine.com</td>\n",
       "      <td>Female</td>\n",
       "      <td>219.148.148.134</td>\n",
       "      <td>64</td>\n",
       "    </tr>\n",
       "    <tr>\n",
       "      <th>10</th>\n",
       "      <td>11</td>\n",
       "      <td>Melosa</td>\n",
       "      <td>Boneham</td>\n",
       "      <td>mbonehama@quantcast.com</td>\n",
       "      <td>Female</td>\n",
       "      <td>176.120.71.216</td>\n",
       "      <td>56</td>\n",
       "    </tr>\n",
       "    <tr>\n",
       "      <th>15</th>\n",
       "      <td>16</td>\n",
       "      <td>Mamie</td>\n",
       "      <td>Wainwright</td>\n",
       "      <td>mwainwrightf@studiopress.com</td>\n",
       "      <td>Female</td>\n",
       "      <td>163.100.199.174</td>\n",
       "      <td>55</td>\n",
       "    </tr>\n",
       "    <tr>\n",
       "      <th>...</th>\n",
       "      <td>...</td>\n",
       "      <td>...</td>\n",
       "      <td>...</td>\n",
       "      <td>...</td>\n",
       "      <td>...</td>\n",
       "      <td>...</td>\n",
       "      <td>...</td>\n",
       "    </tr>\n",
       "    <tr>\n",
       "      <th>989</th>\n",
       "      <td>990</td>\n",
       "      <td>Francesca</td>\n",
       "      <td>Shorrock</td>\n",
       "      <td>fshorrockrh@creativecommons.org</td>\n",
       "      <td>Female</td>\n",
       "      <td>168.4.169.89</td>\n",
       "      <td>58</td>\n",
       "    </tr>\n",
       "    <tr>\n",
       "      <th>990</th>\n",
       "      <td>991</td>\n",
       "      <td>Boone</td>\n",
       "      <td>Gerrey</td>\n",
       "      <td>bgerreyri@amazon.de</td>\n",
       "      <td>Male</td>\n",
       "      <td>191.139.46.86</td>\n",
       "      <td>64</td>\n",
       "    </tr>\n",
       "    <tr>\n",
       "      <th>991</th>\n",
       "      <td>992</td>\n",
       "      <td>Chaunce</td>\n",
       "      <td>Askie</td>\n",
       "      <td>caskierj@fc2.com</td>\n",
       "      <td>Male</td>\n",
       "      <td>36.3.185.58</td>\n",
       "      <td>63</td>\n",
       "    </tr>\n",
       "    <tr>\n",
       "      <th>994</th>\n",
       "      <td>995</td>\n",
       "      <td>Ibbie</td>\n",
       "      <td>Appleby</td>\n",
       "      <td>iapplebyrm@alibaba.com</td>\n",
       "      <td>Genderqueer</td>\n",
       "      <td>236.77.139.163</td>\n",
       "      <td>62</td>\n",
       "    </tr>\n",
       "    <tr>\n",
       "      <th>996</th>\n",
       "      <td>997</td>\n",
       "      <td>Al</td>\n",
       "      <td>Villiers</td>\n",
       "      <td>avilliersro@nydailynews.com</td>\n",
       "      <td>Agender</td>\n",
       "      <td>168.3.4.142</td>\n",
       "      <td>60</td>\n",
       "    </tr>\n",
       "  </tbody>\n",
       "</table>\n",
       "<p>288 rows × 7 columns</p>\n",
       "</div>"
      ]
     },
     "execution_count": 36,
     "metadata": {},
     "output_type": "execute_result"
    }
   ],
   "execution_count": 36
  },
  {
   "metadata": {
    "ExecuteTime": {
     "end_time": "2025-03-19T18:43:52.263094Z",
     "start_time": "2025-03-19T18:43:52.258249Z"
    }
   },
   "cell_type": "code",
   "source": "youth_df.shape[0]",
   "id": "7f9f385e7e818f6f",
   "outputs": [
    {
     "data": {
      "text/plain": [
       "161"
      ]
     },
     "execution_count": 37,
     "metadata": {},
     "output_type": "execute_result"
    }
   ],
   "execution_count": 37
  },
  {
   "metadata": {
    "ExecuteTime": {
     "end_time": "2025-03-19T18:43:58.891560Z",
     "start_time": "2025-03-19T18:43:58.887273Z"
    }
   },
   "cell_type": "code",
   "source": "adults_df.shape[0]",
   "id": "5354627304bc9c53",
   "outputs": [
    {
     "data": {
      "text/plain": [
       "227"
      ]
     },
     "execution_count": 38,
     "metadata": {},
     "output_type": "execute_result"
    }
   ],
   "execution_count": 38
  },
  {
   "metadata": {
    "ExecuteTime": {
     "end_time": "2025-03-19T18:44:07.265515Z",
     "start_time": "2025-03-19T18:44:07.261848Z"
    }
   },
   "cell_type": "code",
   "source": "true_adults_df.shape[0]",
   "id": "998e329e46cd0e59",
   "outputs": [
    {
     "data": {
      "text/plain": [
       "324"
      ]
     },
     "execution_count": 39,
     "metadata": {},
     "output_type": "execute_result"
    }
   ],
   "execution_count": 39
  },
  {
   "metadata": {
    "ExecuteTime": {
     "end_time": "2025-03-19T18:44:17.310434Z",
     "start_time": "2025-03-19T18:44:17.305792Z"
    }
   },
   "cell_type": "code",
   "source": "hardcore_adults_df.shape[0]",
   "id": "ebcc8cac5f7ab1de",
   "outputs": [
    {
     "data": {
      "text/plain": [
       "288"
      ]
     },
     "execution_count": 40,
     "metadata": {},
     "output_type": "execute_result"
    }
   ],
   "execution_count": 40
  },
  {
   "metadata": {
    "ExecuteTime": {
     "end_time": "2025-03-19T18:44:48.539257Z",
     "start_time": "2025-03-19T18:44:48.535350Z"
    }
   },
   "cell_type": "code",
   "source": "print(youth_df['age'].mean())",
   "id": "9fc7b82af8f31b9f",
   "outputs": [
    {
     "name": "stdout",
     "output_type": "stream",
     "text": [
      "21.496894409937887\n"
     ]
    }
   ],
   "execution_count": 41
  },
  {
   "metadata": {
    "ExecuteTime": {
     "end_time": "2025-03-19T18:45:01.434371Z",
     "start_time": "2025-03-19T18:45:01.429296Z"
    }
   },
   "cell_type": "code",
   "source": "print(adults_df['age'].mean())",
   "id": "99ace50a70034c7a",
   "outputs": [
    {
     "name": "stdout",
     "output_type": "stream",
     "text": [
      "30.651982378854626\n"
     ]
    }
   ],
   "execution_count": 42
  },
  {
   "metadata": {
    "ExecuteTime": {
     "end_time": "2025-03-19T18:45:10.517969Z",
     "start_time": "2025-03-19T18:45:10.512665Z"
    }
   },
   "cell_type": "code",
   "source": "print(true_adults_df['age'].mean())",
   "id": "6cdd99b5b57f7281",
   "outputs": [
    {
     "name": "stdout",
     "output_type": "stream",
     "text": [
      "43.03703703703704\n"
     ]
    }
   ],
   "execution_count": 43
  },
  {
   "metadata": {
    "ExecuteTime": {
     "end_time": "2025-03-19T18:45:23.039812Z",
     "start_time": "2025-03-19T18:45:23.036231Z"
    }
   },
   "cell_type": "code",
   "source": "print(hardcore_adults_df['age'].mean())",
   "id": "49748a0b5eef3a33",
   "outputs": [
    {
     "name": "stdout",
     "output_type": "stream",
     "text": [
      "58.39930555555556\n"
     ]
    }
   ],
   "execution_count": 44
  }
 ],
 "metadata": {
  "kernelspec": {
   "display_name": "Python 3",
   "language": "python",
   "name": "python3"
  },
  "language_info": {
   "codemirror_mode": {
    "name": "ipython",
    "version": 2
   },
   "file_extension": ".py",
   "mimetype": "text/x-python",
   "name": "python",
   "nbconvert_exporter": "python",
   "pygments_lexer": "ipython2",
   "version": "2.7.6"
  }
 },
 "nbformat": 4,
 "nbformat_minor": 5
}
